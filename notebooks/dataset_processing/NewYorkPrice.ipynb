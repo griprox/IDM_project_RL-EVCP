{
 "cells": [
  {
   "cell_type": "code",
   "execution_count": 6,
   "id": "db919c9a",
   "metadata": {},
   "outputs": [],
   "source": [
    "import os\n",
    "import sys\n",
    "path_to_this_notebook = os.path.abspath('.')\n",
    "path_to_project = path_to_this_notebook[:path_to_this_notebook.find('note')]\n",
    "sys.path.append(path_to_project)\n",
    "import pandas as pd\n",
    "import numpy as np\n",
    "import matplotlib.pyplot as plt\n",
    "import pickle\n",
    "from src.timedata_util import *"
   ]
  },
  {
   "cell_type": "code",
   "execution_count": 7,
   "id": "d4b00eae",
   "metadata": {},
   "outputs": [],
   "source": [
    "path_to_data = path_to_project + '/data/newyork_price/'"
   ]
  },
  {
   "cell_type": "code",
   "execution_count": 8,
   "id": "7cfd0d46",
   "metadata": {
    "scrolled": true
   },
   "outputs": [
    {
     "data": {
      "text/html": [
       "<div>\n",
       "<style scoped>\n",
       "    .dataframe tbody tr th:only-of-type {\n",
       "        vertical-align: middle;\n",
       "    }\n",
       "\n",
       "    .dataframe tbody tr th {\n",
       "        vertical-align: top;\n",
       "    }\n",
       "\n",
       "    .dataframe thead th {\n",
       "        text-align: right;\n",
       "    }\n",
       "</style>\n",
       "<table border=\"1\" class=\"dataframe\">\n",
       "  <thead>\n",
       "    <tr style=\"text-align: right;\">\n",
       "      <th></th>\n",
       "      <th>date</th>\n",
       "      <th>time</th>\n",
       "      <th>price</th>\n",
       "    </tr>\n",
       "  </thead>\n",
       "  <tbody>\n",
       "    <tr>\n",
       "      <th>0</th>\n",
       "      <td>2019-01-01</td>\n",
       "      <td>00:00</td>\n",
       "      <td>0.003384</td>\n",
       "    </tr>\n",
       "    <tr>\n",
       "      <th>1</th>\n",
       "      <td>2019-01-01</td>\n",
       "      <td>00:05</td>\n",
       "      <td>0.006766</td>\n",
       "    </tr>\n",
       "    <tr>\n",
       "      <th>2</th>\n",
       "      <td>2019-01-01</td>\n",
       "      <td>00:10</td>\n",
       "      <td>0.006721</td>\n",
       "    </tr>\n",
       "    <tr>\n",
       "      <th>3</th>\n",
       "      <td>2019-01-01</td>\n",
       "      <td>00:15</td>\n",
       "      <td>0.029613</td>\n",
       "    </tr>\n",
       "    <tr>\n",
       "      <th>4</th>\n",
       "      <td>2019-01-01</td>\n",
       "      <td>00:19</td>\n",
       "      <td>0.028865</td>\n",
       "    </tr>\n",
       "  </tbody>\n",
       "</table>\n",
       "</div>"
      ],
      "text/plain": [
       "         date   time     price\n",
       "0  2019-01-01  00:00  0.003384\n",
       "1  2019-01-01  00:05  0.006766\n",
       "2  2019-01-01  00:10  0.006721\n",
       "3  2019-01-01  00:15  0.029613\n",
       "4  2019-01-01  00:19  0.028865"
      ]
     },
     "execution_count": 8,
     "metadata": {},
     "output_type": "execute_result"
    }
   ],
   "source": [
    "df = pd.read_csv(path_to_data + 'newyork_price_jan_april.csv')\n",
    "date = df['DateTime'].apply(lambda x: x[:10])\n",
    "time = df['DateTime'].apply(lambda x: x[11:16])\n",
    "df['date'] = date\n",
    "df['time'] = time\n",
    "df['price'] = df['realtime_lbmp (avg) (nyiso)'] / 1000\n",
    "columns = ['date', 'time', 'price']\n",
    "df = df[columns]\n",
    "df.head()"
   ]
  },
  {
   "cell_type": "code",
   "execution_count": 9,
   "id": "b54056a6",
   "metadata": {},
   "outputs": [],
   "source": [
    "current_dt_min = 5"
   ]
  },
  {
   "cell_type": "code",
   "execution_count": 10,
   "id": "7ab58aae",
   "metadata": {
    "scrolled": true
   },
   "outputs": [
    {
     "name": "stdout",
     "output_type": "stream",
     "text": [
      "CPU times: user 17.6 s, sys: 454 ms, total: 18 s\n",
      "Wall time: 18.8 s\n"
     ]
    },
    {
     "data": {
      "text/html": [
       "<div>\n",
       "<style scoped>\n",
       "    .dataframe tbody tr th:only-of-type {\n",
       "        vertical-align: middle;\n",
       "    }\n",
       "\n",
       "    .dataframe tbody tr th {\n",
       "        vertical-align: top;\n",
       "    }\n",
       "\n",
       "    .dataframe thead th {\n",
       "        text-align: right;\n",
       "    }\n",
       "</style>\n",
       "<table border=\"1\" class=\"dataframe\">\n",
       "  <thead>\n",
       "    <tr style=\"text-align: right;\">\n",
       "      <th></th>\n",
       "      <th>date</th>\n",
       "      <th>time</th>\n",
       "      <th>price</th>\n",
       "    </tr>\n",
       "  </thead>\n",
       "  <tbody>\n",
       "    <tr>\n",
       "      <th>0</th>\n",
       "      <td>2019-01-01</td>\n",
       "      <td>00:00</td>\n",
       "      <td>0.003384</td>\n",
       "    </tr>\n",
       "    <tr>\n",
       "      <th>0</th>\n",
       "      <td>2019-01-01</td>\n",
       "      <td>00:01</td>\n",
       "      <td>0.003384</td>\n",
       "    </tr>\n",
       "    <tr>\n",
       "      <th>0</th>\n",
       "      <td>2019-01-01</td>\n",
       "      <td>00:02</td>\n",
       "      <td>0.003384</td>\n",
       "    </tr>\n",
       "    <tr>\n",
       "      <th>0</th>\n",
       "      <td>2019-01-01</td>\n",
       "      <td>00:03</td>\n",
       "      <td>0.003384</td>\n",
       "    </tr>\n",
       "    <tr>\n",
       "      <th>0</th>\n",
       "      <td>2019-01-01</td>\n",
       "      <td>00:04</td>\n",
       "      <td>0.003384</td>\n",
       "    </tr>\n",
       "  </tbody>\n",
       "</table>\n",
       "</div>"
      ],
      "text/plain": [
       "         date   time     price\n",
       "0  2019-01-01  00:00  0.003384\n",
       "0  2019-01-01  00:01  0.003384\n",
       "0  2019-01-01  00:02  0.003384\n",
       "0  2019-01-01  00:03  0.003384\n",
       "0  2019-01-01  00:04  0.003384"
      ]
     },
     "execution_count": 10,
     "metadata": {},
     "output_type": "execute_result"
    }
   ],
   "source": [
    "%%time\n",
    "df_new = []\n",
    "for i in range(len(df)):\n",
    "    row = df.iloc[i]\n",
    "    t_str = row['time']\n",
    "    t_min = t_str_to_t_min(t_str)\n",
    "    for j in range(current_dt_min):\n",
    "        new_t_min = t_min + j\n",
    "        new_t_str = t_min_to_t_str(new_t_min)\n",
    "        new_row = row.copy()\n",
    "        new_row['time'] = new_t_str\n",
    "        df_new.append(new_row)\n",
    "df_new = pd.DataFrame(df_new, columns=df.columns)\n",
    "df_new.head()"
   ]
  },
  {
   "cell_type": "code",
   "execution_count": 11,
   "id": "16cdeeed",
   "metadata": {
    "scrolled": true
   },
   "outputs": [],
   "source": [
    "metadata = {'dates': df['date'].unique()}\n",
    "with open(path_to_data + 'metadata_dict.pickle', 'wb') as f:\n",
    "    pickle.dump(metadata, f)"
   ]
  },
  {
   "cell_type": "code",
   "execution_count": 12,
   "id": "cc1f931d",
   "metadata": {},
   "outputs": [],
   "source": [
    "df_new.to_csv(path_to_data + 'price.csv', index=None)"
   ]
  }
 ],
 "metadata": {
  "interpreter": {
   "hash": "1d7053eaf1f44e4ba09689f8d46ffe60bb595916505f14727b0e14a5d0bba04d"
  },
  "kernelspec": {
   "display_name": "Python 3.9.6 64-bit ('3.9.6')",
   "language": "python",
   "name": "python3"
  },
  "language_info": {
   "codemirror_mode": {
    "name": "ipython",
    "version": 3
   },
   "file_extension": ".py",
   "mimetype": "text/x-python",
   "name": "python",
   "nbconvert_exporter": "python",
   "pygments_lexer": "ipython3",
   "version": "3.9.6"
  }
 },
 "nbformat": 4,
 "nbformat_minor": 5
}
